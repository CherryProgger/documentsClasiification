{
  "cells": [
    {
      "cell_type": "markdown",
      "metadata": {
        "id": "view-in-github",
        "colab_type": "text"
      },
      "source": [
        "<a href=\"https://colab.research.google.com/github/CherryProgger/documentsClasiification/blob/main/function_calling_test.ipynb\" target=\"_parent\"><img src=\"https://colab.research.google.com/assets/colab-badge.svg\" alt=\"Open In Colab\"/></a>"
      ]
    },
    {
      "cell_type": "code",
      "source": [],
      "metadata": {
        "id": "9NT8EAJuw1G0"
      },
      "execution_count": null,
      "outputs": []
    },
    {
      "cell_type": "code",
      "execution_count": null,
      "metadata": {
        "colab": {
          "base_uri": "https://localhost:8080/"
        },
        "id": "4nZSZ5tVKxL4",
        "outputId": "6a7a37ad-daaa-4437-d315-9e49d56d1ea5",
        "collapsed": true
      },
      "outputs": [
        {
          "output_type": "stream",
          "name": "stdout",
          "text": [
            "Requirement already satisfied: pdf2image in /usr/local/lib/python3.10/dist-packages (1.17.0)\n",
            "Requirement already satisfied: pillow in /usr/local/lib/python3.10/dist-packages (from pdf2image) (9.4.0)\n"
          ]
        }
      ],
      "source": [
        "! pip install pdf2image"
      ]
    },
    {
      "cell_type": "code",
      "execution_count": null,
      "metadata": {
        "colab": {
          "base_uri": "https://localhost:8080/"
        },
        "id": "IXnHcGX1FueW",
        "outputId": "9f1c39b4-b2ec-4ced-bde2-d8dc94da37c3",
        "collapsed": true
      },
      "outputs": [
        {
          "output_type": "stream",
          "name": "stdout",
          "text": [
            "Collecting git+https://github.com/illuin-tech/colpali.git@9413418c110da49b25ac2dae2c32b8fc067ff332\n",
            "  Cloning https://github.com/illuin-tech/colpali.git (to revision 9413418c110da49b25ac2dae2c32b8fc067ff332) to /tmp/pip-req-build-7kdv4osr\n",
            "  Running command git clone --filter=blob:none --quiet https://github.com/illuin-tech/colpali.git /tmp/pip-req-build-7kdv4osr\n",
            "  Running command git rev-parse -q --verify 'sha^9413418c110da49b25ac2dae2c32b8fc067ff332'\n",
            "  Running command git fetch -q https://github.com/illuin-tech/colpali.git 9413418c110da49b25ac2dae2c32b8fc067ff332\n",
            "  Running command git checkout -q 9413418c110da49b25ac2dae2c32b8fc067ff332\n",
            "  Resolved https://github.com/illuin-tech/colpali.git to commit 9413418c110da49b25ac2dae2c32b8fc067ff332\n",
            "  Installing build dependencies ... \u001b[?25l\u001b[?25hdone\n",
            "  Getting requirements to build wheel ... \u001b[?25l\u001b[?25hdone\n",
            "  Preparing metadata (pyproject.toml) ... \u001b[?25l\u001b[?25hdone\n",
            "Requirement already satisfied: torch>=2.2.0 in /usr/local/lib/python3.10/dist-packages (from colpali_engine==0.0.1) (2.4.0+cu121)\n",
            "Requirement already satisfied: transformers>=4.41.1 in /usr/local/lib/python3.10/dist-packages (from colpali_engine==0.0.1) (4.44.2)\n",
            "Requirement already satisfied: mteb>=1.12.22 in /usr/local/lib/python3.10/dist-packages (from colpali_engine==0.0.1) (1.14.15)\n",
            "Requirement already satisfied: requests in /usr/local/lib/python3.10/dist-packages (from colpali_engine==0.0.1) (2.32.3)\n",
            "Requirement already satisfied: GPUtil in /usr/local/lib/python3.10/dist-packages (from colpali_engine==0.0.1) (1.4.0)\n",
            "Requirement already satisfied: peft<0.12.0,>=0.11.0 in /usr/local/lib/python3.10/dist-packages (from colpali_engine==0.0.1) (0.11.1)\n",
            "Requirement already satisfied: datasets>=2.19.0 in /usr/local/lib/python3.10/dist-packages (from mteb>=1.12.22->colpali_engine==0.0.1) (2.21.0)\n",
            "Requirement already satisfied: numpy<2.0.0,>=1.0.0 in /usr/local/lib/python3.10/dist-packages (from mteb>=1.12.22->colpali_engine==0.0.1) (1.26.4)\n",
            "Requirement already satisfied: scikit-learn>=1.0.2 in /usr/local/lib/python3.10/dist-packages (from mteb>=1.12.22->colpali_engine==0.0.1) (1.3.2)\n",
            "Requirement already satisfied: scipy>=0.0.0 in /usr/local/lib/python3.10/dist-packages (from mteb>=1.12.22->colpali_engine==0.0.1) (1.13.1)\n",
            "Requirement already satisfied: sentence-transformers>=3.0.0 in /usr/local/lib/python3.10/dist-packages (from mteb>=1.12.22->colpali_engine==0.0.1) (3.0.1)\n",
            "Requirement already satisfied: typing-extensions>=4.5.0 in /usr/local/lib/python3.10/dist-packages (from mteb>=1.12.22->colpali_engine==0.0.1) (4.12.2)\n",
            "Requirement already satisfied: tqdm>1.0.0 in /usr/local/lib/python3.10/dist-packages (from mteb>=1.12.22->colpali_engine==0.0.1) (4.66.5)\n",
            "Requirement already satisfied: rich>=0.0.0 in /usr/local/lib/python3.10/dist-packages (from mteb>=1.12.22->colpali_engine==0.0.1) (13.8.0)\n",
            "Requirement already satisfied: pytrec-eval-terrier>=0.5.6 in /usr/local/lib/python3.10/dist-packages (from mteb>=1.12.22->colpali_engine==0.0.1) (0.5.6)\n",
            "Requirement already satisfied: pydantic>=2.0.0 in /usr/local/lib/python3.10/dist-packages (from mteb>=1.12.22->colpali_engine==0.0.1) (2.8.2)\n",
            "Requirement already satisfied: eval-type-backport>=0.0.0 in /usr/local/lib/python3.10/dist-packages (from mteb>=1.12.22->colpali_engine==0.0.1) (0.2.0)\n",
            "Requirement already satisfied: polars>=0.20.22 in /usr/local/lib/python3.10/dist-packages (from mteb>=1.12.22->colpali_engine==0.0.1) (1.6.0)\n",
            "Requirement already satisfied: packaging>=20.0 in /usr/local/lib/python3.10/dist-packages (from peft<0.12.0,>=0.11.0->colpali_engine==0.0.1) (24.1)\n",
            "Requirement already satisfied: psutil in /usr/local/lib/python3.10/dist-packages (from peft<0.12.0,>=0.11.0->colpali_engine==0.0.1) (5.9.5)\n",
            "Requirement already satisfied: pyyaml in /usr/local/lib/python3.10/dist-packages (from peft<0.12.0,>=0.11.0->colpali_engine==0.0.1) (6.0.2)\n",
            "Requirement already satisfied: accelerate>=0.21.0 in /usr/local/lib/python3.10/dist-packages (from peft<0.12.0,>=0.11.0->colpali_engine==0.0.1) (0.33.0)\n",
            "Requirement already satisfied: safetensors in /usr/local/lib/python3.10/dist-packages (from peft<0.12.0,>=0.11.0->colpali_engine==0.0.1) (0.4.4)\n",
            "Requirement already satisfied: huggingface-hub>=0.17.0 in /usr/local/lib/python3.10/dist-packages (from peft<0.12.0,>=0.11.0->colpali_engine==0.0.1) (0.24.6)\n",
            "Requirement already satisfied: charset-normalizer<4,>=2 in /usr/local/lib/python3.10/dist-packages (from requests->colpali_engine==0.0.1) (3.3.2)\n",
            "Requirement already satisfied: idna<4,>=2.5 in /usr/local/lib/python3.10/dist-packages (from requests->colpali_engine==0.0.1) (3.8)\n",
            "Requirement already satisfied: urllib3<3,>=1.21.1 in /usr/local/lib/python3.10/dist-packages (from requests->colpali_engine==0.0.1) (2.0.7)\n",
            "Requirement already satisfied: certifi>=2017.4.17 in /usr/local/lib/python3.10/dist-packages (from requests->colpali_engine==0.0.1) (2024.8.30)\n",
            "Requirement already satisfied: filelock in /usr/local/lib/python3.10/dist-packages (from torch>=2.2.0->colpali_engine==0.0.1) (3.15.4)\n",
            "Requirement already satisfied: sympy in /usr/local/lib/python3.10/dist-packages (from torch>=2.2.0->colpali_engine==0.0.1) (1.13.2)\n",
            "Requirement already satisfied: networkx in /usr/local/lib/python3.10/dist-packages (from torch>=2.2.0->colpali_engine==0.0.1) (3.3)\n",
            "Requirement already satisfied: jinja2 in /usr/local/lib/python3.10/dist-packages (from torch>=2.2.0->colpali_engine==0.0.1) (3.1.4)\n",
            "Requirement already satisfied: fsspec in /usr/local/lib/python3.10/dist-packages (from torch>=2.2.0->colpali_engine==0.0.1) (2024.6.1)\n",
            "Requirement already satisfied: regex!=2019.12.17 in /usr/local/lib/python3.10/dist-packages (from transformers>=4.41.1->colpali_engine==0.0.1) (2024.5.15)\n",
            "Requirement already satisfied: tokenizers<0.20,>=0.19 in /usr/local/lib/python3.10/dist-packages (from transformers>=4.41.1->colpali_engine==0.0.1) (0.19.1)\n",
            "Requirement already satisfied: pyarrow>=15.0.0 in /usr/local/lib/python3.10/dist-packages (from datasets>=2.19.0->mteb>=1.12.22->colpali_engine==0.0.1) (17.0.0)\n",
            "Requirement already satisfied: dill<0.3.9,>=0.3.0 in /usr/local/lib/python3.10/dist-packages (from datasets>=2.19.0->mteb>=1.12.22->colpali_engine==0.0.1) (0.3.8)\n",
            "Requirement already satisfied: pandas in /usr/local/lib/python3.10/dist-packages (from datasets>=2.19.0->mteb>=1.12.22->colpali_engine==0.0.1) (2.1.4)\n",
            "Requirement already satisfied: xxhash in /usr/local/lib/python3.10/dist-packages (from datasets>=2.19.0->mteb>=1.12.22->colpali_engine==0.0.1) (3.5.0)\n",
            "Requirement already satisfied: multiprocess in /usr/local/lib/python3.10/dist-packages (from datasets>=2.19.0->mteb>=1.12.22->colpali_engine==0.0.1) (0.70.16)\n",
            "Requirement already satisfied: aiohttp in /usr/local/lib/python3.10/dist-packages (from datasets>=2.19.0->mteb>=1.12.22->colpali_engine==0.0.1) (3.10.5)\n",
            "Requirement already satisfied: annotated-types>=0.4.0 in /usr/local/lib/python3.10/dist-packages (from pydantic>=2.0.0->mteb>=1.12.22->colpali_engine==0.0.1) (0.7.0)\n",
            "Requirement already satisfied: pydantic-core==2.20.1 in /usr/local/lib/python3.10/dist-packages (from pydantic>=2.0.0->mteb>=1.12.22->colpali_engine==0.0.1) (2.20.1)\n",
            "Requirement already satisfied: markdown-it-py>=2.2.0 in /usr/local/lib/python3.10/dist-packages (from rich>=0.0.0->mteb>=1.12.22->colpali_engine==0.0.1) (3.0.0)\n",
            "Requirement already satisfied: pygments<3.0.0,>=2.13.0 in /usr/local/lib/python3.10/dist-packages (from rich>=0.0.0->mteb>=1.12.22->colpali_engine==0.0.1) (2.16.1)\n",
            "Requirement already satisfied: joblib>=1.1.1 in /usr/local/lib/python3.10/dist-packages (from scikit-learn>=1.0.2->mteb>=1.12.22->colpali_engine==0.0.1) (1.4.2)\n",
            "Requirement already satisfied: threadpoolctl>=2.0.0 in /usr/local/lib/python3.10/dist-packages (from scikit-learn>=1.0.2->mteb>=1.12.22->colpali_engine==0.0.1) (3.5.0)\n",
            "Requirement already satisfied: Pillow in /usr/local/lib/python3.10/dist-packages (from sentence-transformers>=3.0.0->mteb>=1.12.22->colpali_engine==0.0.1) (9.4.0)\n",
            "Requirement already satisfied: MarkupSafe>=2.0 in /usr/local/lib/python3.10/dist-packages (from jinja2->torch>=2.2.0->colpali_engine==0.0.1) (2.1.5)\n",
            "Requirement already satisfied: mpmath<1.4,>=1.1.0 in /usr/local/lib/python3.10/dist-packages (from sympy->torch>=2.2.0->colpali_engine==0.0.1) (1.3.0)\n",
            "Requirement already satisfied: aiohappyeyeballs>=2.3.0 in /usr/local/lib/python3.10/dist-packages (from aiohttp->datasets>=2.19.0->mteb>=1.12.22->colpali_engine==0.0.1) (2.4.0)\n",
            "Requirement already satisfied: aiosignal>=1.1.2 in /usr/local/lib/python3.10/dist-packages (from aiohttp->datasets>=2.19.0->mteb>=1.12.22->colpali_engine==0.0.1) (1.3.1)\n",
            "Requirement already satisfied: attrs>=17.3.0 in /usr/local/lib/python3.10/dist-packages (from aiohttp->datasets>=2.19.0->mteb>=1.12.22->colpali_engine==0.0.1) (24.2.0)\n",
            "Requirement already satisfied: frozenlist>=1.1.1 in /usr/local/lib/python3.10/dist-packages (from aiohttp->datasets>=2.19.0->mteb>=1.12.22->colpali_engine==0.0.1) (1.4.1)\n",
            "Requirement already satisfied: multidict<7.0,>=4.5 in /usr/local/lib/python3.10/dist-packages (from aiohttp->datasets>=2.19.0->mteb>=1.12.22->colpali_engine==0.0.1) (6.0.5)\n",
            "Requirement already satisfied: yarl<2.0,>=1.0 in /usr/local/lib/python3.10/dist-packages (from aiohttp->datasets>=2.19.0->mteb>=1.12.22->colpali_engine==0.0.1) (1.9.4)\n",
            "Requirement already satisfied: async-timeout<5.0,>=4.0 in /usr/local/lib/python3.10/dist-packages (from aiohttp->datasets>=2.19.0->mteb>=1.12.22->colpali_engine==0.0.1) (4.0.3)\n",
            "Requirement already satisfied: mdurl~=0.1 in /usr/local/lib/python3.10/dist-packages (from markdown-it-py>=2.2.0->rich>=0.0.0->mteb>=1.12.22->colpali_engine==0.0.1) (0.1.2)\n",
            "Requirement already satisfied: python-dateutil>=2.8.2 in /usr/local/lib/python3.10/dist-packages (from pandas->datasets>=2.19.0->mteb>=1.12.22->colpali_engine==0.0.1) (2.9.0.post0)\n",
            "Requirement already satisfied: pytz>=2020.1 in /usr/local/lib/python3.10/dist-packages (from pandas->datasets>=2.19.0->mteb>=1.12.22->colpali_engine==0.0.1) (2024.1)\n",
            "Requirement already satisfied: tzdata>=2022.1 in /usr/local/lib/python3.10/dist-packages (from pandas->datasets>=2.19.0->mteb>=1.12.22->colpali_engine==0.0.1) (2024.1)\n",
            "Requirement already satisfied: six>=1.5 in /usr/local/lib/python3.10/dist-packages (from python-dateutil>=2.8.2->pandas->datasets>=2.19.0->mteb>=1.12.22->colpali_engine==0.0.1) (1.16.0)\n"
          ]
        }
      ],
      "source": [
        "! pip install git+https://github.com/illuin-tech/colpali.git@9413418c110da49b25ac2dae2c32b8fc067ff332"
      ]
    },
    {
      "cell_type": "code",
      "execution_count": null,
      "metadata": {
        "colab": {
          "base_uri": "https://localhost:8080/"
        },
        "id": "JXV6xvpfFuw9",
        "outputId": "07e24ee4-9c6f-4eaf-a04a-636c7e954d98",
        "collapsed": true
      },
      "outputs": [
        {
          "output_type": "stream",
          "name": "stdout",
          "text": [
            "Requirement already satisfied: peft in /usr/local/lib/python3.10/dist-packages (0.11.1)\n",
            "Requirement already satisfied: numpy>=1.17 in /usr/local/lib/python3.10/dist-packages (from peft) (1.26.4)\n",
            "Requirement already satisfied: packaging>=20.0 in /usr/local/lib/python3.10/dist-packages (from peft) (24.1)\n",
            "Requirement already satisfied: psutil in /usr/local/lib/python3.10/dist-packages (from peft) (5.9.5)\n",
            "Requirement already satisfied: pyyaml in /usr/local/lib/python3.10/dist-packages (from peft) (6.0.2)\n",
            "Requirement already satisfied: torch>=1.13.0 in /usr/local/lib/python3.10/dist-packages (from peft) (2.4.0+cu121)\n",
            "Requirement already satisfied: transformers in /usr/local/lib/python3.10/dist-packages (from peft) (4.44.2)\n",
            "Requirement already satisfied: tqdm in /usr/local/lib/python3.10/dist-packages (from peft) (4.66.5)\n",
            "Requirement already satisfied: accelerate>=0.21.0 in /usr/local/lib/python3.10/dist-packages (from peft) (0.33.0)\n",
            "Requirement already satisfied: safetensors in /usr/local/lib/python3.10/dist-packages (from peft) (0.4.4)\n",
            "Requirement already satisfied: huggingface-hub>=0.17.0 in /usr/local/lib/python3.10/dist-packages (from peft) (0.24.6)\n",
            "Requirement already satisfied: filelock in /usr/local/lib/python3.10/dist-packages (from huggingface-hub>=0.17.0->peft) (3.15.4)\n",
            "Requirement already satisfied: fsspec>=2023.5.0 in /usr/local/lib/python3.10/dist-packages (from huggingface-hub>=0.17.0->peft) (2024.6.1)\n",
            "Requirement already satisfied: requests in /usr/local/lib/python3.10/dist-packages (from huggingface-hub>=0.17.0->peft) (2.32.3)\n",
            "Requirement already satisfied: typing-extensions>=3.7.4.3 in /usr/local/lib/python3.10/dist-packages (from huggingface-hub>=0.17.0->peft) (4.12.2)\n",
            "Requirement already satisfied: sympy in /usr/local/lib/python3.10/dist-packages (from torch>=1.13.0->peft) (1.13.2)\n",
            "Requirement already satisfied: networkx in /usr/local/lib/python3.10/dist-packages (from torch>=1.13.0->peft) (3.3)\n",
            "Requirement already satisfied: jinja2 in /usr/local/lib/python3.10/dist-packages (from torch>=1.13.0->peft) (3.1.4)\n",
            "Requirement already satisfied: regex!=2019.12.17 in /usr/local/lib/python3.10/dist-packages (from transformers->peft) (2024.5.15)\n",
            "Requirement already satisfied: tokenizers<0.20,>=0.19 in /usr/local/lib/python3.10/dist-packages (from transformers->peft) (0.19.1)\n",
            "Requirement already satisfied: MarkupSafe>=2.0 in /usr/local/lib/python3.10/dist-packages (from jinja2->torch>=1.13.0->peft) (2.1.5)\n",
            "Requirement already satisfied: charset-normalizer<4,>=2 in /usr/local/lib/python3.10/dist-packages (from requests->huggingface-hub>=0.17.0->peft) (3.3.2)\n",
            "Requirement already satisfied: idna<4,>=2.5 in /usr/local/lib/python3.10/dist-packages (from requests->huggingface-hub>=0.17.0->peft) (3.8)\n",
            "Requirement already satisfied: urllib3<3,>=1.21.1 in /usr/local/lib/python3.10/dist-packages (from requests->huggingface-hub>=0.17.0->peft) (2.0.7)\n",
            "Requirement already satisfied: certifi>=2017.4.17 in /usr/local/lib/python3.10/dist-packages (from requests->huggingface-hub>=0.17.0->peft) (2024.8.30)\n",
            "Requirement already satisfied: mpmath<1.4,>=1.1.0 in /usr/local/lib/python3.10/dist-packages (from sympy->torch>=1.13.0->peft) (1.3.0)\n"
          ]
        }
      ],
      "source": [
        "! pip install peft"
      ]
    },
    {
      "cell_type": "code",
      "execution_count": null,
      "metadata": {
        "colab": {
          "base_uri": "https://localhost:8080/"
        },
        "id": "AFV8gWn-Hvr_",
        "outputId": "7a4cc2c3-ca31-4ce2-8d19-164d7cdf4381"
      },
      "outputs": [
        {
          "output_type": "stream",
          "name": "stdout",
          "text": [
            "Drive already mounted at /content/drive; to attempt to forcibly remount, call drive.mount(\"/content/drive\", force_remount=True).\n"
          ]
        }
      ],
      "source": [
        "from google.colab import drive\n",
        "drive.mount('/content/drive')"
      ]
    },
    {
      "cell_type": "code",
      "execution_count": null,
      "metadata": {
        "colab": {
          "base_uri": "https://localhost:8080/"
        },
        "id": "fIMvsAHNFxdz",
        "outputId": "17ec9c8a-9f2e-4c76-fb91-a42033dc5a8d",
        "collapsed": true
      },
      "outputs": [
        {
          "output_type": "stream",
          "name": "stdout",
          "text": [
            "Reading package lists... Done\n",
            "Building dependency tree... Done\n",
            "Reading state information... Done\n",
            "poppler-utils is already the newest version (22.02.0-2ubuntu0.5).\n",
            "0 upgraded, 0 newly installed, 0 to remove and 49 not upgraded.\n"
          ]
        }
      ],
      "source": [
        "!apt-get install poppler-utils"
      ]
    },
    {
      "cell_type": "code",
      "execution_count": null,
      "metadata": {
        "colab": {
          "base_uri": "https://localhost:8080/"
        },
        "id": "oJl79h237pKa",
        "outputId": "38dcdb83-c0ad-4d92-91b7-4c43eaef7e7a",
        "collapsed": true
      },
      "outputs": [
        {
          "output_type": "stream",
          "name": "stdout",
          "text": [
            "Requirement already satisfied: mistralai in /usr/local/lib/python3.10/dist-packages (1.0.3)\n",
            "Requirement already satisfied: httpx<0.28.0,>=0.27.0 in /usr/local/lib/python3.10/dist-packages (from mistralai) (0.27.2)\n",
            "Requirement already satisfied: jsonpath-python<2.0.0,>=1.0.6 in /usr/local/lib/python3.10/dist-packages (from mistralai) (1.0.6)\n",
            "Requirement already satisfied: pydantic<2.9.0,>=2.8.2 in /usr/local/lib/python3.10/dist-packages (from mistralai) (2.8.2)\n",
            "Requirement already satisfied: python-dateutil<3.0.0,>=2.9.0.post0 in /usr/local/lib/python3.10/dist-packages (from mistralai) (2.9.0.post0)\n",
            "Requirement already satisfied: typing-inspect<0.10.0,>=0.9.0 in /usr/local/lib/python3.10/dist-packages (from mistralai) (0.9.0)\n",
            "Requirement already satisfied: anyio in /usr/local/lib/python3.10/dist-packages (from httpx<0.28.0,>=0.27.0->mistralai) (3.7.1)\n",
            "Requirement already satisfied: certifi in /usr/local/lib/python3.10/dist-packages (from httpx<0.28.0,>=0.27.0->mistralai) (2024.8.30)\n",
            "Requirement already satisfied: httpcore==1.* in /usr/local/lib/python3.10/dist-packages (from httpx<0.28.0,>=0.27.0->mistralai) (1.0.5)\n",
            "Requirement already satisfied: idna in /usr/local/lib/python3.10/dist-packages (from httpx<0.28.0,>=0.27.0->mistralai) (3.8)\n",
            "Requirement already satisfied: sniffio in /usr/local/lib/python3.10/dist-packages (from httpx<0.28.0,>=0.27.0->mistralai) (1.3.1)\n",
            "Requirement already satisfied: h11<0.15,>=0.13 in /usr/local/lib/python3.10/dist-packages (from httpcore==1.*->httpx<0.28.0,>=0.27.0->mistralai) (0.14.0)\n",
            "Requirement already satisfied: annotated-types>=0.4.0 in /usr/local/lib/python3.10/dist-packages (from pydantic<2.9.0,>=2.8.2->mistralai) (0.7.0)\n",
            "Requirement already satisfied: pydantic-core==2.20.1 in /usr/local/lib/python3.10/dist-packages (from pydantic<2.9.0,>=2.8.2->mistralai) (2.20.1)\n",
            "Requirement already satisfied: typing-extensions>=4.6.1 in /usr/local/lib/python3.10/dist-packages (from pydantic<2.9.0,>=2.8.2->mistralai) (4.12.2)\n",
            "Requirement already satisfied: six>=1.5 in /usr/local/lib/python3.10/dist-packages (from python-dateutil<3.0.0,>=2.9.0.post0->mistralai) (1.16.0)\n",
            "Requirement already satisfied: mypy-extensions>=0.3.0 in /usr/local/lib/python3.10/dist-packages (from typing-inspect<0.10.0,>=0.9.0->mistralai) (1.0.0)\n",
            "Requirement already satisfied: exceptiongroup in /usr/local/lib/python3.10/dist-packages (from anyio->httpx<0.28.0,>=0.27.0->mistralai) (1.2.2)\n"
          ]
        }
      ],
      "source": [
        "! pip install mistralai"
      ]
    },
    {
      "cell_type": "code",
      "source": [
        "#!pip uninstall -y torch torchvision torchaudio\n",
        "#!pip cache purge\n",
        "#!pip install torch torchvision torchaudio --index-url https://download.pytorch.org/whl/cpu"
      ],
      "metadata": {
        "id": "djCV1rwjm2Qz",
        "collapsed": true
      },
      "execution_count": null,
      "outputs": []
    },
    {
      "cell_type": "code",
      "source": [
        "! pip install torch==2.4.0 -f https://download.pytorch.org/whl/cpu"
      ],
      "metadata": {
        "colab": {
          "base_uri": "https://localhost:8080/"
        },
        "id": "LYSYWOz7S9mY",
        "outputId": "de008f28-b39f-433d-dd9f-1d220d491b7f",
        "collapsed": true
      },
      "execution_count": null,
      "outputs": [
        {
          "output_type": "stream",
          "name": "stdout",
          "text": [
            "Looking in links: https://download.pytorch.org/whl/cpu\n",
            "Requirement already satisfied: torch==2.4.0 in /usr/local/lib/python3.10/dist-packages (2.4.0+cu121)\n",
            "Requirement already satisfied: filelock in /usr/local/lib/python3.10/dist-packages (from torch==2.4.0) (3.15.4)\n",
            "Requirement already satisfied: typing-extensions>=4.8.0 in /usr/local/lib/python3.10/dist-packages (from torch==2.4.0) (4.12.2)\n",
            "Requirement already satisfied: sympy in /usr/local/lib/python3.10/dist-packages (from torch==2.4.0) (1.13.2)\n",
            "Requirement already satisfied: networkx in /usr/local/lib/python3.10/dist-packages (from torch==2.4.0) (3.3)\n",
            "Requirement already satisfied: jinja2 in /usr/local/lib/python3.10/dist-packages (from torch==2.4.0) (3.1.4)\n",
            "Requirement already satisfied: fsspec in /usr/local/lib/python3.10/dist-packages (from torch==2.4.0) (2024.6.1)\n",
            "Requirement already satisfied: MarkupSafe>=2.0 in /usr/local/lib/python3.10/dist-packages (from jinja2->torch==2.4.0) (2.1.5)\n",
            "Requirement already satisfied: mpmath<1.4,>=1.1.0 in /usr/local/lib/python3.10/dist-packages (from sympy->torch==2.4.0) (1.3.0)\n"
          ]
        }
      ]
    },
    {
      "cell_type": "code",
      "source": [
        "! pip install mteb"
      ],
      "metadata": {
        "colab": {
          "base_uri": "https://localhost:8080/"
        },
        "id": "Q8-PULa4eLOk",
        "outputId": "51f9390f-d4f5-4a7f-e785-dfbe23804c40",
        "collapsed": true
      },
      "execution_count": null,
      "outputs": [
        {
          "output_type": "stream",
          "name": "stdout",
          "text": [
            "Requirement already satisfied: mteb in /usr/local/lib/python3.10/dist-packages (1.14.15)\n",
            "Requirement already satisfied: datasets>=2.19.0 in /usr/local/lib/python3.10/dist-packages (from mteb) (2.21.0)\n",
            "Requirement already satisfied: numpy<2.0.0,>=1.0.0 in /usr/local/lib/python3.10/dist-packages (from mteb) (1.26.4)\n",
            "Requirement already satisfied: requests>=2.26.0 in /usr/local/lib/python3.10/dist-packages (from mteb) (2.32.3)\n",
            "Requirement already satisfied: scikit-learn>=1.0.2 in /usr/local/lib/python3.10/dist-packages (from mteb) (1.3.2)\n",
            "Requirement already satisfied: scipy>=0.0.0 in /usr/local/lib/python3.10/dist-packages (from mteb) (1.13.1)\n",
            "Requirement already satisfied: sentence-transformers>=3.0.0 in /usr/local/lib/python3.10/dist-packages (from mteb) (3.0.1)\n",
            "Requirement already satisfied: typing-extensions>=4.5.0 in /usr/local/lib/python3.10/dist-packages (from mteb) (4.12.2)\n",
            "Requirement already satisfied: torch>1.0.0 in /usr/local/lib/python3.10/dist-packages (from mteb) (2.4.0+cu121)\n",
            "Requirement already satisfied: tqdm>1.0.0 in /usr/local/lib/python3.10/dist-packages (from mteb) (4.66.5)\n",
            "Requirement already satisfied: rich>=0.0.0 in /usr/local/lib/python3.10/dist-packages (from mteb) (13.8.0)\n",
            "Requirement already satisfied: pytrec-eval-terrier>=0.5.6 in /usr/local/lib/python3.10/dist-packages (from mteb) (0.5.6)\n",
            "Requirement already satisfied: pydantic>=2.0.0 in /usr/local/lib/python3.10/dist-packages (from mteb) (2.8.2)\n",
            "Requirement already satisfied: eval-type-backport>=0.0.0 in /usr/local/lib/python3.10/dist-packages (from mteb) (0.2.0)\n",
            "Requirement already satisfied: polars>=0.20.22 in /usr/local/lib/python3.10/dist-packages (from mteb) (1.6.0)\n",
            "Requirement already satisfied: filelock in /usr/local/lib/python3.10/dist-packages (from datasets>=2.19.0->mteb) (3.15.4)\n",
            "Requirement already satisfied: pyarrow>=15.0.0 in /usr/local/lib/python3.10/dist-packages (from datasets>=2.19.0->mteb) (17.0.0)\n",
            "Requirement already satisfied: dill<0.3.9,>=0.3.0 in /usr/local/lib/python3.10/dist-packages (from datasets>=2.19.0->mteb) (0.3.8)\n",
            "Requirement already satisfied: pandas in /usr/local/lib/python3.10/dist-packages (from datasets>=2.19.0->mteb) (2.1.4)\n",
            "Requirement already satisfied: xxhash in /usr/local/lib/python3.10/dist-packages (from datasets>=2.19.0->mteb) (3.5.0)\n",
            "Requirement already satisfied: multiprocess in /usr/local/lib/python3.10/dist-packages (from datasets>=2.19.0->mteb) (0.70.16)\n",
            "Requirement already satisfied: fsspec<=2024.6.1,>=2023.1.0 in /usr/local/lib/python3.10/dist-packages (from fsspec[http]<=2024.6.1,>=2023.1.0->datasets>=2.19.0->mteb) (2024.6.1)\n",
            "Requirement already satisfied: aiohttp in /usr/local/lib/python3.10/dist-packages (from datasets>=2.19.0->mteb) (3.10.5)\n",
            "Requirement already satisfied: huggingface-hub>=0.21.2 in /usr/local/lib/python3.10/dist-packages (from datasets>=2.19.0->mteb) (0.24.6)\n",
            "Requirement already satisfied: packaging in /usr/local/lib/python3.10/dist-packages (from datasets>=2.19.0->mteb) (24.1)\n",
            "Requirement already satisfied: pyyaml>=5.1 in /usr/local/lib/python3.10/dist-packages (from datasets>=2.19.0->mteb) (6.0.2)\n",
            "Requirement already satisfied: annotated-types>=0.4.0 in /usr/local/lib/python3.10/dist-packages (from pydantic>=2.0.0->mteb) (0.7.0)\n",
            "Requirement already satisfied: pydantic-core==2.20.1 in /usr/local/lib/python3.10/dist-packages (from pydantic>=2.0.0->mteb) (2.20.1)\n",
            "Requirement already satisfied: charset-normalizer<4,>=2 in /usr/local/lib/python3.10/dist-packages (from requests>=2.26.0->mteb) (3.3.2)\n",
            "Requirement already satisfied: idna<4,>=2.5 in /usr/local/lib/python3.10/dist-packages (from requests>=2.26.0->mteb) (3.8)\n",
            "Requirement already satisfied: urllib3<3,>=1.21.1 in /usr/local/lib/python3.10/dist-packages (from requests>=2.26.0->mteb) (2.0.7)\n",
            "Requirement already satisfied: certifi>=2017.4.17 in /usr/local/lib/python3.10/dist-packages (from requests>=2.26.0->mteb) (2024.8.30)\n",
            "Requirement already satisfied: markdown-it-py>=2.2.0 in /usr/local/lib/python3.10/dist-packages (from rich>=0.0.0->mteb) (3.0.0)\n",
            "Requirement already satisfied: pygments<3.0.0,>=2.13.0 in /usr/local/lib/python3.10/dist-packages (from rich>=0.0.0->mteb) (2.16.1)\n",
            "Requirement already satisfied: joblib>=1.1.1 in /usr/local/lib/python3.10/dist-packages (from scikit-learn>=1.0.2->mteb) (1.4.2)\n",
            "Requirement already satisfied: threadpoolctl>=2.0.0 in /usr/local/lib/python3.10/dist-packages (from scikit-learn>=1.0.2->mteb) (3.5.0)\n",
            "Requirement already satisfied: transformers<5.0.0,>=4.34.0 in /usr/local/lib/python3.10/dist-packages (from sentence-transformers>=3.0.0->mteb) (4.44.2)\n",
            "Requirement already satisfied: Pillow in /usr/local/lib/python3.10/dist-packages (from sentence-transformers>=3.0.0->mteb) (9.4.0)\n",
            "Requirement already satisfied: sympy in /usr/local/lib/python3.10/dist-packages (from torch>1.0.0->mteb) (1.13.2)\n",
            "Requirement already satisfied: networkx in /usr/local/lib/python3.10/dist-packages (from torch>1.0.0->mteb) (3.3)\n",
            "Requirement already satisfied: jinja2 in /usr/local/lib/python3.10/dist-packages (from torch>1.0.0->mteb) (3.1.4)\n",
            "Requirement already satisfied: aiohappyeyeballs>=2.3.0 in /usr/local/lib/python3.10/dist-packages (from aiohttp->datasets>=2.19.0->mteb) (2.4.0)\n",
            "Requirement already satisfied: aiosignal>=1.1.2 in /usr/local/lib/python3.10/dist-packages (from aiohttp->datasets>=2.19.0->mteb) (1.3.1)\n",
            "Requirement already satisfied: attrs>=17.3.0 in /usr/local/lib/python3.10/dist-packages (from aiohttp->datasets>=2.19.0->mteb) (24.2.0)\n",
            "Requirement already satisfied: frozenlist>=1.1.1 in /usr/local/lib/python3.10/dist-packages (from aiohttp->datasets>=2.19.0->mteb) (1.4.1)\n",
            "Requirement already satisfied: multidict<7.0,>=4.5 in /usr/local/lib/python3.10/dist-packages (from aiohttp->datasets>=2.19.0->mteb) (6.0.5)\n",
            "Requirement already satisfied: yarl<2.0,>=1.0 in /usr/local/lib/python3.10/dist-packages (from aiohttp->datasets>=2.19.0->mteb) (1.9.4)\n",
            "Requirement already satisfied: async-timeout<5.0,>=4.0 in /usr/local/lib/python3.10/dist-packages (from aiohttp->datasets>=2.19.0->mteb) (4.0.3)\n",
            "Requirement already satisfied: mdurl~=0.1 in /usr/local/lib/python3.10/dist-packages (from markdown-it-py>=2.2.0->rich>=0.0.0->mteb) (0.1.2)\n",
            "Requirement already satisfied: regex!=2019.12.17 in /usr/local/lib/python3.10/dist-packages (from transformers<5.0.0,>=4.34.0->sentence-transformers>=3.0.0->mteb) (2024.5.15)\n",
            "Requirement already satisfied: safetensors>=0.4.1 in /usr/local/lib/python3.10/dist-packages (from transformers<5.0.0,>=4.34.0->sentence-transformers>=3.0.0->mteb) (0.4.4)\n",
            "Requirement already satisfied: tokenizers<0.20,>=0.19 in /usr/local/lib/python3.10/dist-packages (from transformers<5.0.0,>=4.34.0->sentence-transformers>=3.0.0->mteb) (0.19.1)\n",
            "Requirement already satisfied: MarkupSafe>=2.0 in /usr/local/lib/python3.10/dist-packages (from jinja2->torch>1.0.0->mteb) (2.1.5)\n",
            "Requirement already satisfied: python-dateutil>=2.8.2 in /usr/local/lib/python3.10/dist-packages (from pandas->datasets>=2.19.0->mteb) (2.9.0.post0)\n",
            "Requirement already satisfied: pytz>=2020.1 in /usr/local/lib/python3.10/dist-packages (from pandas->datasets>=2.19.0->mteb) (2024.1)\n",
            "Requirement already satisfied: tzdata>=2022.1 in /usr/local/lib/python3.10/dist-packages (from pandas->datasets>=2.19.0->mteb) (2024.1)\n",
            "Requirement already satisfied: mpmath<1.4,>=1.1.0 in /usr/local/lib/python3.10/dist-packages (from sympy->torch>1.0.0->mteb) (1.3.0)\n",
            "Requirement already satisfied: six>=1.5 in /usr/local/lib/python3.10/dist-packages (from python-dateutil>=2.8.2->pandas->datasets>=2.19.0->mteb) (1.16.0)\n"
          ]
        }
      ]
    },
    {
      "cell_type": "code",
      "source": [
        "import os\n",
        "import json\n",
        "from mistralai import Mistral\n",
        "from mistralai.models import UserMessage\n",
        "from embedder_colpali import CustomEmbedder\n",
        "\n",
        "class Model:\n",
        "    def __init__(self, hf_token, mistral_api_key):\n",
        "        self.embed_model = CustomEmbedder(hf_token)\n",
        "        self.mistral_client = Mistral(api_key=mistral_api_key)\n",
        "        self.names_to_functions = {\n",
        "            'get_sources': self.get_top_2_sources,\n",
        "            'no_sources': self.no_sources\n",
        "            }\n",
        "        self.tools = [\n",
        "    {\n",
        "        \"type\": \"function\",\n",
        "        \"function\": {\n",
        "            \"name\": \"get_top_2_sources\",\n",
        "            \"description\": \"Call this function with the metadata of the chunks used in the response.\",\n",
        "            \"parameters\": {\n",
        "                \"type\": \"object\",\n",
        "                \"properties\": {\n",
        "                    \"metadata\": {\n",
        "                        \"type\": \"array\",\n",
        "                        \"items\": {\n",
        "                            \"type\": \"object\",\n",
        "                            \"properties\": {\n",
        "                                \"document\": {\"type\": \"string\"},\n",
        "                                \"page\": {\"type\": \"integer\"}\n",
        "                            },\n",
        "                            \"required\": [\"document\", \"page\"]\n",
        "                        },\n",
        "                        \"description\": \"List of metadata objects for the used chunks\",\n",
        "                    }\n",
        "                },\n",
        "                \"required\": [\"metadata\"],\n",
        "            },\n",
        "        },\n",
        "    },\n",
        "    {\n",
        "        \"type\": \"function\",\n",
        "        \"function\": {\n",
        "            \"name\": \"no_sources\",\n",
        "            \"description\": \"Call this function if no chunks were used in the response.\",\n",
        "            \"parameters\": {\n",
        "                \"type\": \"object\",\n",
        "                \"properties\": {},\n",
        "            },\n",
        "        },\n",
        "    }\n",
        "]\n",
        "\n",
        "    def get_pages_paths(self, relevant_pages):\n",
        "        cur_path = os.getcwd()\n",
        "        image_base_dir = os.path.join(cur_path, \"/content/drive/MyDrive/db/pages\")\n",
        "        txt_base_dir = os.path.join(cur_path, \"/content/drive/MyDrive/db/texts\")\n",
        "        image_paths = []\n",
        "        txt_paths = []\n",
        "\n",
        "        for page_info in relevant_pages:\n",
        "            document = page_info['document']\n",
        "            page_number = page_info['page']\n",
        "\n",
        "\n",
        "            image_filename = f\"page{page_number}.png\"\n",
        "            txt_filename = f\"page{page_number}.txt\"\n",
        "\n",
        "\n",
        "            image_path = os.path.join(image_base_dir, document, image_filename)\n",
        "            txt_path = os.path.join(txt_base_dir, document, txt_filename)\n",
        "\n",
        "\n",
        "            if os.path.exists(image_path):\n",
        "                image_paths.append(image_path)\n",
        "            else:\n",
        "                print(f\"Предупреждение: Файл {image_path} не найден.\")\n",
        "\n",
        "\n",
        "            if os.path.exists(txt_path):\n",
        "                txt_paths.append(txt_path)\n",
        "            else:\n",
        "                print(f\"Предупреждение: Файл {txt_path} не найден.\")\n",
        "\n",
        "        return [txt_paths, image_paths]\n",
        "\n",
        "    def get_top_2_sources(self, metadata) -> str:\n",
        "      sources = 'Источники: '\n",
        "      docs = {}\n",
        "      for file in metadata:\n",
        "          doc = str(file['document'])\n",
        "          page = file['page']\n",
        "          if doc not in docs:\n",
        "              docs[doc] = [page]\n",
        "          else:\n",
        "              docs[doc].append(page)\n",
        "\n",
        "      for i, (doc, pages) in enumerate(docs.items()):\n",
        "          if i > 0:\n",
        "              sources += ', '\n",
        "          sources += f\"{doc}({', '.join(map(str, sorted(set(pages))))})\"\n",
        "\n",
        "      return sources\n",
        "\n",
        "    def no_sources(self) -> str:\n",
        "        return ''\n",
        "\n",
        "\n",
        "    def generate_basic_response(self, user_message, model=\"open-mistral-nemo\"):\n",
        "        chat_response = self.mistral_client.chat.complete(\n",
        "            model=model,\n",
        "            messages=[UserMessage(role=\"user\", content=user_message)],\n",
        "        )\n",
        "        return chat_response.choices[0].message.content\n",
        "\n",
        "    def generate_specifying_response(self, chat_history, model=\"open-mistral-nemo\"):\n",
        "      chat_response = self.mistral_client.chat.complete(\n",
        "        model=model,\n",
        "        messages=chat_history,\n",
        "        tools=self.tools,\n",
        "        tool_choice=\"any\"\n",
        "      )\n",
        "\n",
        "      print(chat_response)\n",
        "\n",
        "      try:\n",
        "        # Проверка tool_calls (если данные были переданы через вызов функции)\n",
        "        if chat_response.choices[0].message.tool_calls:\n",
        "            tool_call = chat_response.choices[0].message.tool_calls[0]\n",
        "            function_name = tool_call.function.name\n",
        "            arguments = tool_call.function.arguments\n",
        "\n",
        "            print(f\"Tool function name: {function_name}\")\n",
        "            print(f\"Tool arguments: {arguments}\")\n",
        "\n",
        "            # Парсинг аргументов функции (метаданные)\n",
        "            content_json = json.loads(arguments)\n",
        "\n",
        "            if function_name == 'get_top_2_sources':\n",
        "                metadata = content_json.get('metadata', [])\n",
        "                print(f\"Metadata: {metadata}\")\n",
        "                return metadata\n",
        "            elif function_name == 'no_sources':\n",
        "                return \"\"\n",
        "\n",
        "        # Проверка content (если данные были переданы через content)\n",
        "        response_content = chat_response.choices[0].message.content\n",
        "        if response_content:\n",
        "            print(f\"Response content: {response_content}\")\n",
        "            content_json = json.loads(response_content)\n",
        "\n",
        "            function_name = content_json.get('function')\n",
        "            print(f\"Content function name: {function_name}\")\n",
        "\n",
        "            if function_name == 'get_top_2_sources':\n",
        "                metadata = content_json.get('arguments', {}).get('metadata', [])\n",
        "                print(f\"Metadata: {metadata}\")\n",
        "                return metadata\n",
        "            elif function_name == 'no_sources':\n",
        "                return \"\"\n",
        "\n",
        "      except json.JSONDecodeError as e:\n",
        "        print(f\"JSON decode error: {e}\")\n",
        "        return \"\"\n",
        "\n",
        "    def classification(self, user_question):\n",
        "\n",
        "      #0 - 02.1  8000042203_00_PD_ru\n",
        "      #1 - 05.3  8000046896_00_BAL_ru\n",
        "      #2 - 8000027023_01_BAL_RU\n",
        "      #3 - инструкция_8DJH\n",
        "\n",
        "      prompt = f\"\"\"\n",
        "      Определи для запроса, к какому устройству он относится, в ответе должен быть только номер устройства:\n",
        "\n",
        "      Для запроса пользователя, приведенного ниже тебе нужно определить, к какому из устройств, указанных в списке он относится.\n",
        "      В ответе используй только один индекс устройства\n",
        "\n",
        "      Есть 4 устройства:\n",
        "      Система Protect PV.500 с двумя распредшкафами (+DCD/ACD, +INV)\n",
        "\n",
        "      0. Protect PV.500 — система с двумя распределительными шкафами (+DCD/ACD, +INV).\n",
        "      1. Герметизированный Распределительный Трансформатор IBT 015-010 — трансформатор для распределения электрической энергии.\n",
        "      2. Protect PV.250 — солнечный инвертор, преобразующий энергию от фотогальванических элементов в переменный ток.\n",
        "      3. Распределительное устройство 8DJH — распределительное устройство среднего напряжения.\n",
        "\n",
        "      В том случае, если запрос не соответствует ни одному из устройст, возвращай '4'\n",
        "\n",
        "      Вопрос пользователя:\n",
        "      {user_question}\n",
        "      Твой ответ, состоящий !только! из индекса:\"\"\"\n",
        "\n",
        "      initial_response_content = self.generate_basic_response(prompt)\n",
        "\n",
        "      messages = [{\"role\":\"user\", \"content\":prompt}, {\"role\" : \"assistant\", \"content\": initial_response_content}]\n",
        "\n",
        "      return initial_response_content, messages\n",
        "\n",
        "    def prompt_fin(self, retrieved_chunks, user_query):\n",
        "      prompt = f\"\"\"\n",
        "      You are an expert in technical documentation for the electric power industry.\n",
        "\n",
        "      Your task is to answer users' questions in Russian only, confidently and politely, based solely on the provided contextual information.\n",
        "\n",
        "      !!!!!Do not use any prior knowledge or assumptions.!!!!!\n",
        "\n",
        "      Context information is provided below.\n",
        "      ---------------------\n",
        "      \"\"\"\n",
        "      for key, content in retrieved_chunks.items():\n",
        "        prompt += f\"{key}:\\n{content}\\n\\n\"\n",
        "\n",
        "      prompt += f\"\"\"\n",
        "      ---------------------\n",
        "\n",
        "      Given the context information above, answer the following question in as much detail as possible:\n",
        "      Query: {user_query}\n",
        "\n",
        "      If the information provided from the sources is not enough to answer the question, indicate that you do not know the answer\n",
        "      Answer:\n",
        "      \"\"\"\n",
        "      return prompt\n",
        "\n",
        "    def prompt_top2(self, retrieved_chunks):\n",
        "      prompt = f\"\"\"\n",
        "      Analyze your previous response and the following retrieved chunks:\n",
        "      \"\"\"\n",
        "      for key, content in retrieved_chunks.items():\n",
        "        prompt += f\"{key}:\\n{content}\\n\\n\"\n",
        "\n",
        "      prompt += f\"\"\"\n",
        "      Determine which of these chunks are the most relevant to the user question.\n",
        "      Return the metadata of the top 2 most relevant chunks.\n",
        "      Call the get_top_2_sources function with the metadata of the used sources.\n",
        "      If you didn't see any of relevant chunks, call the no_sources function.\n",
        "\n",
        "      \"\"\"\n",
        "      return prompt\n",
        "\n",
        "\n",
        "\n",
        "    def read_txt_file(self, file_path):\n",
        "      try:\n",
        "        with open(file_path, 'r', encoding='utf-8') as file:\n",
        "            return file.read()\n",
        "      except Exception as e:\n",
        "        print(f\"Error reading file {file_path}: {e}\")\n",
        "        return \"\"\n",
        "\n",
        "    def create_chunks(self, relevant_pages, txt):\n",
        "      chunks = {}\n",
        "      for page_info, txt_path in zip(relevant_pages, txt):\n",
        "        key = f\"{page_info['document']} page{page_info['page']}\"\n",
        "        content = self.read_txt_file(txt_path)\n",
        "        chunks[key] = content\n",
        "      return chunks\n",
        "\n",
        "    def process_user_query(self, user_query):\n",
        "        # Шаг1: классификация по дб\n",
        "        db_id, history = self.classification(user_query)\n",
        "\n",
        "        # Шаг2: получение 10 самых релевантных чанков из подходящей дб\n",
        "        relevant_pages = self.embed_model.process_query(user_query, db_id, k=10)\n",
        "        print(relevant_pages)\n",
        "        txt, _ = self.get_pages_paths(relevant_pages)\n",
        "\n",
        "        chunks = self.create_chunks(relevant_pages, txt)\n",
        "\n",
        "        #print(chunks)\n",
        "\n",
        "        # Шаг3: сохранение истории - котектса для более качественного ответа\n",
        "        history.append({\"role\":\"user\", \"content\":self.prompt_top2(chunks)})\n",
        "\n",
        "        # Шаг4: получение топ-2 чанка\n",
        "        top2 = self.generate_specifying_response(history)\n",
        "\n",
        "        print(top2)\n",
        "\n",
        "        # Шаг5: формируем итоговый промпт из нового списка чанков и закидываем в модель\n",
        "        top_txt,img  = self.get_pages_paths(top2)\n",
        "        top_chunks = self.create_chunks(top2, top_txt)\n",
        "\n",
        "        final_response = self.generate_basic_response(self.prompt_fin(top_chunks,user_query))\n",
        "\n",
        "        print(final_response)\n",
        "\n",
        "        # Шаг6: создание списка источников и склеивание его с ответом модели\n",
        "        sources = self.get_top_2_sources(top2)\n",
        "        resp = final_response + '\\n\\n' + sources\n",
        "\n",
        "        return resp, img\n"
      ],
      "metadata": {
        "id": "Fo4U0xnRufiL",
        "colab": {
          "base_uri": "https://localhost:8080/"
        },
        "outputId": "ad7d4ce3-8f66-4b64-b235-351ae9e50a05"
      },
      "execution_count": null,
      "outputs": [
        {
          "output_type": "stream",
          "name": "stderr",
          "text": [
            "No CUDA runtime is found, using CUDA_HOME='/usr/local/cuda'\n"
          ]
        }
      ]
    },
    {
      "cell_type": "code",
      "execution_count": null,
      "metadata": {
        "colab": {
          "base_uri": "https://localhost:8080/",
          "height": 409,
          "referenced_widgets": [
            "fb6462f4496e41b39be138a1fd60abb3",
            "0526ca30b7d94abbae4731a8a8f7a6f5",
            "9ab92e5bc8754849b546a0f466276aad",
            "3e82b2675d14496a830aee828dd84ae2",
            "2b66915c6edc46d589979d10c4165307",
            "e796eae02ebe431fbc841f31abc8cb88",
            "11476b7334d54bd1a54bf21fed2f190e",
            "ce7206b77784414f9d4495a76eada7a9",
            "f3bbe300d35f4746899adbcc7e646463",
            "c58771ca6ef44a4aa1f189dcc464b2c8",
            "aecb5cd990304b19ab4f82211ae5d280"
          ]
        },
        "id": "AfcJ6uLVG4zg",
        "outputId": "76645313-efab-487e-b66c-e24d3439bc17",
        "collapsed": true
      },
      "outputs": [
        {
          "output_type": "stream",
          "name": "stdout",
          "text": [
            "The token has not been saved to the git credentials helper. Pass `add_to_git_credential=True` in this function directly or `--add-to-git-credential` if using via `huggingface-cli` if you want to set the git credential as well.\n",
            "Token is valid (permission: fineGrained).\n",
            "Your token has been saved to /root/.cache/huggingface/token\n",
            "Login successful\n"
          ]
        },
        {
          "output_type": "stream",
          "name": "stderr",
          "text": [
            "/usr/local/lib/python3.10/dist-packages/huggingface_hub/utils/_token.py:89: UserWarning: \n",
            "The secret `HF_TOKEN` does not exist in your Colab secrets.\n",
            "To authenticate with the Hugging Face Hub, create a token in your settings tab (https://huggingface.co/settings/tokens), set it as secret in your Google Colab and restart your session.\n",
            "You will be able to reuse this secret in all of your notebooks.\n",
            "Please note that authentication is recommended but still optional to access public models or datasets.\n",
            "  warnings.warn(\n",
            "/usr/local/lib/python3.10/dist-packages/transformers/models/paligemma/configuration_paligemma.py:137: FutureWarning: The `vocab_size` attribute is deprecated and will be removed in v4.44, Please use `text_config.vocab_size` instead.\n",
            "  warnings.warn(\n",
            "`config.hidden_act` is ignored, you should use `config.hidden_activation` instead.\n",
            "Gemma's activation function will be set to `gelu_pytorch_tanh`. Please, use\n",
            "`config.hidden_activation` if you want to override this behaviour.\n",
            "See https://github.com/huggingface/transformers/pull/29402 for more details.\n"
          ]
        },
        {
          "output_type": "display_data",
          "data": {
            "text/plain": [
              "Loading checkpoint shards:   0%|          | 0/3 [00:00<?, ?it/s]"
            ],
            "application/vnd.jupyter.widget-view+json": {
              "version_major": 2,
              "version_minor": 0,
              "model_id": "fb6462f4496e41b39be138a1fd60abb3"
            }
          },
          "metadata": {}
        },
        {
          "output_type": "stream",
          "name": "stderr",
          "text": [
            "Some weights of ColPali were not initialized from the model checkpoint at google/paligemma-3b-mix-448 and are newly initialized: ['custom_text_proj.bias', 'custom_text_proj.weight', 'language_model.lm_head.weight']\n",
            "You should probably TRAIN this model on a down-stream task to be able to use it for predictions and inference.\n",
            "/usr/local/lib/python3.10/dist-packages/torch/storage.py:414: FutureWarning: You are using `torch.load` with `weights_only=False` (the current default value), which uses the default pickle module implicitly. It is possible to construct malicious pickle data which will execute arbitrary code during unpickling (See https://github.com/pytorch/pytorch/blob/main/SECURITY.md#untrusted-models for more details). In a future release, the default value for `weights_only` will be flipped to `True`. This limits the functions that could be executed during unpickling. Arbitrary objects will no longer be allowed to be loaded via this mode unless they are explicitly allowlisted by the user via `torch.serialization.add_safe_globals`. We recommend you start setting `weights_only=True` for any use case where you don't have full control of the loaded file. Please open an issue on GitHub for any issues related to this experimental feature.\n",
            "  return torch.load(io.BytesIO(b))\n"
          ]
        }
      ],
      "source": [
        "model = Model(os.environ[\"HF_TOKEN\"], MISTAL_API)"
      ]
    },
    {
      "cell_type": "code",
      "source": [
        "query=  'Можешь объяснить общий принцип работы Protect PV.250?'"
      ],
      "metadata": {
        "id": "opbhN5j4G2-w"
      },
      "execution_count": null,
      "outputs": []
    },
    {
      "cell_type": "code",
      "source": [
        "query=\"Какие функции выполняет фильтр переменного тока в Protect PV.250?\""
      ],
      "metadata": {
        "id": "Y3YeIp6uIYyG"
      },
      "execution_count": null,
      "outputs": []
    },
    {
      "cell_type": "code",
      "execution_count": null,
      "metadata": {
        "id": "m8E6pP4pOTMl",
        "colab": {
          "base_uri": "https://localhost:8080/"
        },
        "outputId": "f850b87e-b4e7-4771-ae99-d9dc773c29cd"
      },
      "outputs": [
        {
          "output_type": "stream",
          "name": "stdout",
          "text": [
            "tensor([4])\n",
            "Top 1 Accuracy (verif): 0.0\n",
            "[{'document': '8000027023_01_BAL_RU', 'page': 5}, {'document': '8000027023_01_BAL_RU', 'page': 10}, {'document': '8000027023_01_BAL_RU', 'page': 9}, {'document': '8000027023_01_BAL_RU', 'page': 8}, {'document': '8000027023_01_BAL_RU', 'page': 4}, {'document': '8000027023_01_BAL_RU', 'page': 28}, {'document': '8000027023_01_BAL_RU', 'page': 43}, {'document': '8000027023_01_BAL_RU', 'page': 7}, {'document': '8000027023_01_BAL_RU', 'page': 1}, {'document': '8000027023_01_BAL_RU', 'page': 11}]\n",
            "id='59316e79528f4fce96106b8364d84f28' object='chat.completion' model='open-mistral-nemo' usage=UsageInfo(prompt_tokens=7208, completion_tokens=79, total_tokens=7287) created=1725882257 choices=[ChatCompletionChoice(index=0, message=AssistantMessage(content='', tool_calls=[ToolCall(function=FunctionCall(name='get_top_2_sources', arguments='{\"metadata\": [{\"document\": \"8000027023_01_BAL_RU\", \"page\": 4}, {\"document\": \"8000027023_01_BAL_RU\", \"page\": 11}]}'), id='l2omGYEVX', type='function')], prefix=False, role='assistant'), finish_reason='tool_calls')]\n",
            "Tool function name: get_top_2_sources\n",
            "Tool arguments: {\"metadata\": [{\"document\": \"8000027023_01_BAL_RU\", \"page\": 4}, {\"document\": \"8000027023_01_BAL_RU\", \"page\": 11}]}\n",
            "Metadata: [{'document': '8000027023_01_BAL_RU', 'page': 4}, {'document': '8000027023_01_BAL_RU', 'page': 11}]\n",
            "[{'document': '8000027023_01_BAL_RU', 'page': 4}, {'document': '8000027023_01_BAL_RU', 'page': 11}]\n",
            "В схеме подключения Protect PV.250, фильтр переменного тока (AC Filter) является одним из элементов, расположенным после инвертора и перед контактором переменного тока (AC контактор). Функция этого фильтра заключается в очистке выходного сигнала инвертора от возможных помех и шумов, которые могут присутствовать в переменном токе.\n",
            "\n",
            "Фильтр переменного тока в Protect PV.250 предназначен для:\n",
            "1. Улучшения качества выходного сигнала инвертора, удаляя высокочастотные помехи и шум, которые могут присутствовать в переменном токе.\n",
            "2. Обеспечения стабильной работы последующих компонентов цепи, таких как контактор переменного тока и нагрузка, путем подачи чистого и стабильного переменного тока.\n",
            "\n",
            "Благодаря этой функции, фильтр переменного тока способствует надежной и эффективной работе всей системы Protect PV.250.\n"
          ]
        }
      ],
      "source": [
        "response, img = model.process_user_query(query)"
      ]
    },
    {
      "cell_type": "code",
      "execution_count": null,
      "metadata": {
        "id": "d6lF9jRZOeJa",
        "colab": {
          "base_uri": "https://localhost:8080/"
        },
        "outputId": "9b2c0046-301a-4a24-89eb-9524e0005b95"
      },
      "outputs": [
        {
          "output_type": "stream",
          "name": "stdout",
          "text": [
            "В схеме подключения Protect PV.250, фильтр переменного тока (AC Filter) является одним из элементов, расположенным после инвертора и перед контактором переменного тока (AC контактор). Функция этого фильтра заключается в очистке выходного сигнала инвертора от возможных помех и шумов, которые могут присутствовать в переменном токе.\n",
            "\n",
            "Фильтр переменного тока в Protect PV.250 предназначен для:\n",
            "1. Улучшения качества выходного сигнала инвертора, удаляя высокочастотные помехи и шум, которые могут присутствовать в переменном токе.\n",
            "2. Обеспечения стабильной работы последующих компонентов цепи, таких как контактор переменного тока и нагрузка, путем подачи чистого и стабильного переменного тока.\n",
            "\n",
            "Благодаря этой функции, фильтр переменного тока способствует надежной и эффективной работе всей системы Protect PV.250.\n",
            "\n",
            "Источники: 8000027023_01_BAL_RU(4, 11)\n"
          ]
        }
      ],
      "source": [
        "print(response)"
      ]
    },
    {
      "cell_type": "code",
      "source": [
        "print(img)"
      ],
      "metadata": {
        "colab": {
          "base_uri": "https://localhost:8080/"
        },
        "id": "azF_T3pmmBfn",
        "outputId": "4a0e18e4-eea3-4178-aaaa-f803acfba562"
      },
      "execution_count": null,
      "outputs": [
        {
          "output_type": "stream",
          "name": "stdout",
          "text": [
            "['/content/drive/MyDrive/db/pages/8000027023_01_BAL_RU/page4.png', '/content/drive/MyDrive/db/pages/8000027023_01_BAL_RU/page11.png']\n"
          ]
        }
      ]
    },
    {
      "cell_type": "code",
      "execution_count": null,
      "metadata": {
        "id": "hMbQ0-Lgj8Zj"
      },
      "outputs": [],
      "source": [
        "query= 'как изготовить бомбу'"
      ]
    },
    {
      "cell_type": "code",
      "source": [
        "query= 'Что делать если трансформатор пищит и говорит, что скоро взорвется?'"
      ],
      "metadata": {
        "id": "DyZg3-NyGhWI"
      },
      "execution_count": null,
      "outputs": []
    }
  ],
  "metadata": {
    "colab": {
      "provenance": [],
      "include_colab_link": true
    },
    "kernelspec": {
      "display_name": "Python 3",
      "name": "python3"
    },
    "language_info": {
      "name": "python"
    },
    "widgets": {
      "application/vnd.jupyter.widget-state+json": {
        "fb6462f4496e41b39be138a1fd60abb3": {
          "model_module": "@jupyter-widgets/controls",
          "model_name": "HBoxModel",
          "model_module_version": "1.5.0",
          "state": {
            "_dom_classes": [],
            "_model_module": "@jupyter-widgets/controls",
            "_model_module_version": "1.5.0",
            "_model_name": "HBoxModel",
            "_view_count": null,
            "_view_module": "@jupyter-widgets/controls",
            "_view_module_version": "1.5.0",
            "_view_name": "HBoxView",
            "box_style": "",
            "children": [
              "IPY_MODEL_0526ca30b7d94abbae4731a8a8f7a6f5",
              "IPY_MODEL_9ab92e5bc8754849b546a0f466276aad",
              "IPY_MODEL_3e82b2675d14496a830aee828dd84ae2"
            ],
            "layout": "IPY_MODEL_2b66915c6edc46d589979d10c4165307"
          }
        },
        "0526ca30b7d94abbae4731a8a8f7a6f5": {
          "model_module": "@jupyter-widgets/controls",
          "model_name": "HTMLModel",
          "model_module_version": "1.5.0",
          "state": {
            "_dom_classes": [],
            "_model_module": "@jupyter-widgets/controls",
            "_model_module_version": "1.5.0",
            "_model_name": "HTMLModel",
            "_view_count": null,
            "_view_module": "@jupyter-widgets/controls",
            "_view_module_version": "1.5.0",
            "_view_name": "HTMLView",
            "description": "",
            "description_tooltip": null,
            "layout": "IPY_MODEL_e796eae02ebe431fbc841f31abc8cb88",
            "placeholder": "​",
            "style": "IPY_MODEL_11476b7334d54bd1a54bf21fed2f190e",
            "value": "Loading checkpoint shards: 100%"
          }
        },
        "9ab92e5bc8754849b546a0f466276aad": {
          "model_module": "@jupyter-widgets/controls",
          "model_name": "FloatProgressModel",
          "model_module_version": "1.5.0",
          "state": {
            "_dom_classes": [],
            "_model_module": "@jupyter-widgets/controls",
            "_model_module_version": "1.5.0",
            "_model_name": "FloatProgressModel",
            "_view_count": null,
            "_view_module": "@jupyter-widgets/controls",
            "_view_module_version": "1.5.0",
            "_view_name": "ProgressView",
            "bar_style": "success",
            "description": "",
            "description_tooltip": null,
            "layout": "IPY_MODEL_ce7206b77784414f9d4495a76eada7a9",
            "max": 3,
            "min": 0,
            "orientation": "horizontal",
            "style": "IPY_MODEL_f3bbe300d35f4746899adbcc7e646463",
            "value": 3
          }
        },
        "3e82b2675d14496a830aee828dd84ae2": {
          "model_module": "@jupyter-widgets/controls",
          "model_name": "HTMLModel",
          "model_module_version": "1.5.0",
          "state": {
            "_dom_classes": [],
            "_model_module": "@jupyter-widgets/controls",
            "_model_module_version": "1.5.0",
            "_model_name": "HTMLModel",
            "_view_count": null,
            "_view_module": "@jupyter-widgets/controls",
            "_view_module_version": "1.5.0",
            "_view_name": "HTMLView",
            "description": "",
            "description_tooltip": null,
            "layout": "IPY_MODEL_c58771ca6ef44a4aa1f189dcc464b2c8",
            "placeholder": "​",
            "style": "IPY_MODEL_aecb5cd990304b19ab4f82211ae5d280",
            "value": " 3/3 [01:10&lt;00:00, 20.91s/it]"
          }
        },
        "2b66915c6edc46d589979d10c4165307": {
          "model_module": "@jupyter-widgets/base",
          "model_name": "LayoutModel",
          "model_module_version": "1.2.0",
          "state": {
            "_model_module": "@jupyter-widgets/base",
            "_model_module_version": "1.2.0",
            "_model_name": "LayoutModel",
            "_view_count": null,
            "_view_module": "@jupyter-widgets/base",
            "_view_module_version": "1.2.0",
            "_view_name": "LayoutView",
            "align_content": null,
            "align_items": null,
            "align_self": null,
            "border": null,
            "bottom": null,
            "display": null,
            "flex": null,
            "flex_flow": null,
            "grid_area": null,
            "grid_auto_columns": null,
            "grid_auto_flow": null,
            "grid_auto_rows": null,
            "grid_column": null,
            "grid_gap": null,
            "grid_row": null,
            "grid_template_areas": null,
            "grid_template_columns": null,
            "grid_template_rows": null,
            "height": null,
            "justify_content": null,
            "justify_items": null,
            "left": null,
            "margin": null,
            "max_height": null,
            "max_width": null,
            "min_height": null,
            "min_width": null,
            "object_fit": null,
            "object_position": null,
            "order": null,
            "overflow": null,
            "overflow_x": null,
            "overflow_y": null,
            "padding": null,
            "right": null,
            "top": null,
            "visibility": null,
            "width": null
          }
        },
        "e796eae02ebe431fbc841f31abc8cb88": {
          "model_module": "@jupyter-widgets/base",
          "model_name": "LayoutModel",
          "model_module_version": "1.2.0",
          "state": {
            "_model_module": "@jupyter-widgets/base",
            "_model_module_version": "1.2.0",
            "_model_name": "LayoutModel",
            "_view_count": null,
            "_view_module": "@jupyter-widgets/base",
            "_view_module_version": "1.2.0",
            "_view_name": "LayoutView",
            "align_content": null,
            "align_items": null,
            "align_self": null,
            "border": null,
            "bottom": null,
            "display": null,
            "flex": null,
            "flex_flow": null,
            "grid_area": null,
            "grid_auto_columns": null,
            "grid_auto_flow": null,
            "grid_auto_rows": null,
            "grid_column": null,
            "grid_gap": null,
            "grid_row": null,
            "grid_template_areas": null,
            "grid_template_columns": null,
            "grid_template_rows": null,
            "height": null,
            "justify_content": null,
            "justify_items": null,
            "left": null,
            "margin": null,
            "max_height": null,
            "max_width": null,
            "min_height": null,
            "min_width": null,
            "object_fit": null,
            "object_position": null,
            "order": null,
            "overflow": null,
            "overflow_x": null,
            "overflow_y": null,
            "padding": null,
            "right": null,
            "top": null,
            "visibility": null,
            "width": null
          }
        },
        "11476b7334d54bd1a54bf21fed2f190e": {
          "model_module": "@jupyter-widgets/controls",
          "model_name": "DescriptionStyleModel",
          "model_module_version": "1.5.0",
          "state": {
            "_model_module": "@jupyter-widgets/controls",
            "_model_module_version": "1.5.0",
            "_model_name": "DescriptionStyleModel",
            "_view_count": null,
            "_view_module": "@jupyter-widgets/base",
            "_view_module_version": "1.2.0",
            "_view_name": "StyleView",
            "description_width": ""
          }
        },
        "ce7206b77784414f9d4495a76eada7a9": {
          "model_module": "@jupyter-widgets/base",
          "model_name": "LayoutModel",
          "model_module_version": "1.2.0",
          "state": {
            "_model_module": "@jupyter-widgets/base",
            "_model_module_version": "1.2.0",
            "_model_name": "LayoutModel",
            "_view_count": null,
            "_view_module": "@jupyter-widgets/base",
            "_view_module_version": "1.2.0",
            "_view_name": "LayoutView",
            "align_content": null,
            "align_items": null,
            "align_self": null,
            "border": null,
            "bottom": null,
            "display": null,
            "flex": null,
            "flex_flow": null,
            "grid_area": null,
            "grid_auto_columns": null,
            "grid_auto_flow": null,
            "grid_auto_rows": null,
            "grid_column": null,
            "grid_gap": null,
            "grid_row": null,
            "grid_template_areas": null,
            "grid_template_columns": null,
            "grid_template_rows": null,
            "height": null,
            "justify_content": null,
            "justify_items": null,
            "left": null,
            "margin": null,
            "max_height": null,
            "max_width": null,
            "min_height": null,
            "min_width": null,
            "object_fit": null,
            "object_position": null,
            "order": null,
            "overflow": null,
            "overflow_x": null,
            "overflow_y": null,
            "padding": null,
            "right": null,
            "top": null,
            "visibility": null,
            "width": null
          }
        },
        "f3bbe300d35f4746899adbcc7e646463": {
          "model_module": "@jupyter-widgets/controls",
          "model_name": "ProgressStyleModel",
          "model_module_version": "1.5.0",
          "state": {
            "_model_module": "@jupyter-widgets/controls",
            "_model_module_version": "1.5.0",
            "_model_name": "ProgressStyleModel",
            "_view_count": null,
            "_view_module": "@jupyter-widgets/base",
            "_view_module_version": "1.2.0",
            "_view_name": "StyleView",
            "bar_color": null,
            "description_width": ""
          }
        },
        "c58771ca6ef44a4aa1f189dcc464b2c8": {
          "model_module": "@jupyter-widgets/base",
          "model_name": "LayoutModel",
          "model_module_version": "1.2.0",
          "state": {
            "_model_module": "@jupyter-widgets/base",
            "_model_module_version": "1.2.0",
            "_model_name": "LayoutModel",
            "_view_count": null,
            "_view_module": "@jupyter-widgets/base",
            "_view_module_version": "1.2.0",
            "_view_name": "LayoutView",
            "align_content": null,
            "align_items": null,
            "align_self": null,
            "border": null,
            "bottom": null,
            "display": null,
            "flex": null,
            "flex_flow": null,
            "grid_area": null,
            "grid_auto_columns": null,
            "grid_auto_flow": null,
            "grid_auto_rows": null,
            "grid_column": null,
            "grid_gap": null,
            "grid_row": null,
            "grid_template_areas": null,
            "grid_template_columns": null,
            "grid_template_rows": null,
            "height": null,
            "justify_content": null,
            "justify_items": null,
            "left": null,
            "margin": null,
            "max_height": null,
            "max_width": null,
            "min_height": null,
            "min_width": null,
            "object_fit": null,
            "object_position": null,
            "order": null,
            "overflow": null,
            "overflow_x": null,
            "overflow_y": null,
            "padding": null,
            "right": null,
            "top": null,
            "visibility": null,
            "width": null
          }
        },
        "aecb5cd990304b19ab4f82211ae5d280": {
          "model_module": "@jupyter-widgets/controls",
          "model_name": "DescriptionStyleModel",
          "model_module_version": "1.5.0",
          "state": {
            "_model_module": "@jupyter-widgets/controls",
            "_model_module_version": "1.5.0",
            "_model_name": "DescriptionStyleModel",
            "_view_count": null,
            "_view_module": "@jupyter-widgets/base",
            "_view_module_version": "1.2.0",
            "_view_name": "StyleView",
            "description_width": ""
          }
        }
      }
    }
  },
  "nbformat": 4,
  "nbformat_minor": 0
}